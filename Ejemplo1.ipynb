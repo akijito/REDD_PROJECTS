{
 "cells": [
  {
   "cell_type": "markdown",
   "id": "ab4d7346-9737-4207-a5f4-1524e9d9f223",
   "metadata": {},
   "source": [
    "## Instalación de  librerias\n",
    "En caso de no tener la librerias necesarias instaladas ejecutar la linea de comando inferior"
   ]
  },
  {
   "cell_type": "markdown",
   "id": "e05a8c06-15f9-4d1b-8d47-71e92d30c264",
   "metadata": {},
   "source": [
    "Para proceder con la instalación de las librerias, se deben eliminar las 3 comillas simples al inicio y al final"
   ]
  },
  {
   "cell_type": "code",
   "execution_count": null,
   "id": "78a9e775-552d-4aa5-a3d5-46945869d6a9",
   "metadata": {},
   "outputs": [],
   "source": [
    "'''\n",
    "!pip install pandas\n",
    "!pip install geopandas\n",
    "!pip install os\n",
    "!pip install psutil\n",
    "'''"
   ]
  },
  {
   "cell_type": "code",
   "execution_count": null,
   "id": "7668dd70-ccd4-4823-8c32-d9ff2b0350f0",
   "metadata": {},
   "outputs": [],
   "source": [
    "import Multitemporal_B_NB as bnb"
   ]
  },
  {
   "cell_type": "markdown",
   "id": "8efca1a8-e5ea-42a7-a2cf-ea8f3d3fdfc4",
   "metadata": {},
   "source": [
    "## Definir los directorios\n",
    "jkahsjks"
   ]
  },
  {
   "cell_type": "code",
   "execution_count": null,
   "id": "051ff196-3e3c-4f31-ab75-cf71d9021130",
   "metadata": {},
   "outputs": [],
   "source": [
    "direccion_carpeta = \"C:/Carpeta donde se encuentan guardados los archivos/\"\n",
    "carpeta_salida = \"C:/Carpeta donde se guardaran los archivos/\""
   ]
  },
  {
   "cell_type": "markdown",
   "id": "d644373a-9255-4eca-9778-6f0d7f74fc3a",
   "metadata": {},
   "source": [
    "## Definir el nombre de los archivos \n",
    "\n",
    "Se deben definir los nombres de loos archivos con la terminación vectorial asociada un ejemplo de esto sería \"archivo1.shp\" y la columna en la que se encuentran definidas las coberturas BOSQUE y NO BOSQUE, un ejemplo de esto es si la columna se llama \"Cobertura\".\n",
    "\n",
    "Dentro del código cualquier \"#\" señala un comentario explicativo ó en su defecto algún tipo de ejemplificación"
   ]
  },
  {
   "cell_type": "code",
   "execution_count": null,
   "id": "157832ff-6e9d-42fe-95c1-c17c56f4fe52",
   "metadata": {},
   "outputs": [],
   "source": [
    "#year0 = [\"archivo1.shp\", \"Cobertura\"]\n",
    "year1 = [\"B_NB_2017.shp\",\"Cobertura\"]\n",
    "year2 = [\"B_NB_2018.shp\",\"Cobertura\"]\n",
    "year3 = [\"B_NB_2019.shp\",\"Cobertura\"]\n",
    "year4 = [\"B_NB_2020.shp\",\"Cobertura\"]\n",
    "year5 = [\"B_NB_2021.shp\",\"Cobertura\"]\n",
    "year6 = [\"B_NB_2022.shp\",\"Cobertura\"]\n",
    "year7 = [\"\",\"\"]\n",
    "year8 = [\"\",\"\"]\n",
    "year9 = [\"\",\"\"]\n",
    "year10 = [\"\",\"\"]"
   ]
  },
  {
   "cell_type": "markdown",
   "id": "c18ad91b-5adc-476d-a79e-b9de58ffe27b",
   "metadata": {},
   "source": [
    "## Implementar la función para el análisis multitemporal"
   ]
  },
  {
   "cell_type": "code",
   "execution_count": null,
   "id": "f9fe247c-ef41-4e7a-ab4e-3b88ddaef15c",
   "metadata": {},
   "outputs": [],
   "source": [
    "multitemporal = bnb.multitemporal(direccion_carpeta, carpeta_salida, year1, year2, year3, year4, year5, year6, year7, year8, year9, year10)"
   ]
  }
 ],
 "metadata": {
  "kernelspec": {
   "display_name": "Python 3 (ipykernel)",
   "language": "python",
   "name": "python3"
  },
  "language_info": {
   "codemirror_mode": {
    "name": "ipython",
    "version": 3
   },
   "file_extension": ".py",
   "mimetype": "text/x-python",
   "name": "python",
   "nbconvert_exporter": "python",
   "pygments_lexer": "ipython3",
   "version": "3.9.13"
  }
 },
 "nbformat": 4,
 "nbformat_minor": 5
}
