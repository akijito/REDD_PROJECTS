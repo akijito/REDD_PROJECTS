{
 "cells": [
  {
   "cell_type": "markdown",
   "id": "ab4d7346-9737-4207-a5f4-1524e9d9f223",
   "metadata": {},
   "source": [
    "## Instalación de  librerias\n",
    "En caso de no tener la librerias necesarias instaladas ejecutar la linea de comando inferior"
   ]
  },
  {
   "cell_type": "markdown",
   "id": "e05a8c06-15f9-4d1b-8d47-71e92d30c264",
   "metadata": {},
   "source": [
    "Para proceder con la instalación de las librerias, se deben eliminar las 3 comillas simples al inicio y al final"
   ]
  },
  {
   "cell_type": "code",
   "execution_count": null,
   "id": "78a9e775-552d-4aa5-a3d5-46945869d6a9",
   "metadata": {},
   "outputs": [],
   "source": [
    "'''\n",
    "!pip install pandas\n",
    "!pip install geopandas\n",
    "!pip install os\n",
    "!pip install psutil\n",
    "'''"
   ]
  },
  {
   "cell_type": "code",
   "execution_count": 1,
   "id": "7668dd70-ccd4-4823-8c32-d9ff2b0350f0",
   "metadata": {},
   "outputs": [],
   "source": [
    "import Multitemporal_B_NB as bnb"
   ]
  },
  {
   "cell_type": "code",
   "execution_count": 2,
   "id": "051ff196-3e3c-4f31-ab75-cf71d9021130",
   "metadata": {},
   "outputs": [],
   "source": [
    "direccion_carpeta = \"C:/Users/jccol/Desktop/Modelos_REDD/Prueba_Codigo/Prueba1/\"\n",
    "carpeta_salida = \"C:/Users/jccol/Desktop/Modelos_REDD/Prueba_Codigo/\"\n",
    "year1 = [\"B_NB_2017.shp\",\"Cobertura\"]\n",
    "year2 = [\"B_NB_2018.shp\",\"Cobertura\"]\n",
    "year3 = [\"B_NB_2019.shp\",\"Cobertura\"]\n",
    "year4 = [\"B_NB_2020.shp\",\"Cobertura\"]\n",
    "year5 = [\"B_NB_2021.shp\",\"Cobertura\"]\n",
    "year6 = [\"B_NB_2022.shp\",\"Cobertura\"]\n",
    "year7 = [\"\",\"\"]\n",
    "year8 = [\"\",\"\"]\n",
    "year9 = [\"\",\"\"]\n",
    "year10 = [\"\",\"\"]"
   ]
  },
  {
   "cell_type": "code",
   "execution_count": 3,
   "id": "f9fe247c-ef41-4e7a-ab4e-3b88ddaef15c",
   "metadata": {},
   "outputs": [
    {
     "name": "stderr",
     "output_type": "stream",
     "text": [
      "C:\\Users\\jccol\\Desktop\\Modelos_REDD\\Notebook\\Multitemporal_B_NB.py:18: FutureWarning: Currently, index_parts defaults to True, but in the future, it will default to False to be consistent with Pandas. Use `index_parts=True` to keep the current behavior and True/False to silence the warning.\n",
      "  traslape = traslape.explode()\n",
      "C:\\Users\\jccol\\Desktop\\Modelos_REDD\\Notebook\\Multitemporal_B_NB.py:41: FutureWarning: Currently, index_parts defaults to True, but in the future, it will default to False to be consistent with Pandas. Use `index_parts=True` to keep the current behavior and True/False to silence the warning.\n",
      "  traslape = traslape.explode()\n",
      "C:\\Users\\jccol\\Desktop\\Modelos_REDD\\Notebook\\Multitemporal_B_NB.py:41: FutureWarning: Currently, index_parts defaults to True, but in the future, it will default to False to be consistent with Pandas. Use `index_parts=True` to keep the current behavior and True/False to silence the warning.\n",
      "  traslape = traslape.explode()\n",
      "C:\\Users\\jccol\\Desktop\\Modelos_REDD\\Notebook\\Multitemporal_B_NB.py:41: FutureWarning: Currently, index_parts defaults to True, but in the future, it will default to False to be consistent with Pandas. Use `index_parts=True` to keep the current behavior and True/False to silence the warning.\n",
      "  traslape = traslape.explode()\n",
      "C:\\Users\\jccol\\Desktop\\Modelos_REDD\\Notebook\\Multitemporal_B_NB.py:41: FutureWarning: Currently, index_parts defaults to True, but in the future, it will default to False to be consistent with Pandas. Use `index_parts=True` to keep the current behavior and True/False to silence the warning.\n",
      "  traslape = traslape.explode()\n"
     ]
    },
    {
     "name": "stdout",
     "output_type": "stream",
     "text": [
      "Archivo guardado exitosamente: C:/Users/jccol/Desktop/Modelos_REDD/Prueba_Codigo/Multitemporal\\Periodo1\n",
      "Archivo guardado exitosamente: C:/Users/jccol/Desktop/Modelos_REDD/Prueba_Codigo/Multitemporal\\Periodo2\n",
      "Archivo guardado exitosamente: C:/Users/jccol/Desktop/Modelos_REDD/Prueba_Codigo/Multitemporal\\Periodo3\n",
      "Archivo guardado exitosamente: C:/Users/jccol/Desktop/Modelos_REDD/Prueba_Codigo/Multitemporal\\Periodo4\n",
      "Archivo guardado exitosamente: C:/Users/jccol/Desktop/Modelos_REDD/Prueba_Codigo/Multitemporal\\Periodo5\n"
     ]
    }
   ],
   "source": [
    "multitemporal = bnb.multitemporal(direccion_carpeta, carpeta_salida, year1, year2, year3, year4, year5, year6, year7, year8, year9, year10)"
   ]
  },
  {
   "cell_type": "code",
   "execution_count": null,
   "id": "6944b3f5-6bd1-4201-b937-2c9b4db94801",
   "metadata": {},
   "outputs": [],
   "source": []
  }
 ],
 "metadata": {
  "kernelspec": {
   "display_name": "Python 3 (ipykernel)",
   "language": "python",
   "name": "python3"
  },
  "language_info": {
   "codemirror_mode": {
    "name": "ipython",
    "version": 3
   },
   "file_extension": ".py",
   "mimetype": "text/x-python",
   "name": "python",
   "nbconvert_exporter": "python",
   "pygments_lexer": "ipython3",
   "version": "3.9.13"
  }
 },
 "nbformat": 4,
 "nbformat_minor": 5
}
